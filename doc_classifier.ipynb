{
 "cells": [
  {
   "cell_type": "code",
   "execution_count": 63,
   "id": "0e147b33-d755-4689-a4aa-14919f6a5e68",
   "metadata": {},
   "outputs": [],
   "source": [
    "import base64\n",
    "from openai import OpenAI\n",
    "import os"
   ]
  },
  {
   "cell_type": "code",
   "execution_count": 22,
   "id": "15f3a15f-31f4-4135-87fb-c9c19386384e",
   "metadata": {},
   "outputs": [
    {
     "name": "stdout",
     "output_type": "stream",
     "text": [
      "Collecting langchain_openai\n",
      "  Downloading langchain_openai-0.2.14-py3-none-any.whl.metadata (2.7 kB)\n",
      "Requirement already satisfied: langchain-core<0.4.0,>=0.3.27 in c:\\users\\saha_\\anaconda3\\envs\\py310\\lib\\site-packages (from langchain_openai) (0.3.29)\n",
      "Collecting openai<2.0.0,>=1.58.1 (from langchain_openai)\n",
      "  Downloading openai-1.59.5-py3-none-any.whl.metadata (27 kB)\n",
      "Requirement already satisfied: tiktoken<1,>=0.7 in c:\\users\\saha_\\anaconda3\\envs\\py310\\lib\\site-packages (from langchain_openai) (0.8.0)\n",
      "Requirement already satisfied: PyYAML>=5.3 in c:\\users\\saha_\\anaconda3\\envs\\py310\\lib\\site-packages (from langchain-core<0.4.0,>=0.3.27->langchain_openai) (6.0.2)\n",
      "Requirement already satisfied: jsonpatch<2.0,>=1.33 in c:\\users\\saha_\\anaconda3\\envs\\py310\\lib\\site-packages (from langchain-core<0.4.0,>=0.3.27->langchain_openai) (1.33)\n",
      "Requirement already satisfied: langsmith<0.3,>=0.1.125 in c:\\users\\saha_\\anaconda3\\envs\\py310\\lib\\site-packages (from langchain-core<0.4.0,>=0.3.27->langchain_openai) (0.2.10)\n",
      "Requirement already satisfied: packaging<25,>=23.2 in c:\\users\\saha_\\anaconda3\\envs\\py310\\lib\\site-packages (from langchain-core<0.4.0,>=0.3.27->langchain_openai) (24.1)\n",
      "Requirement already satisfied: pydantic<3.0.0,>=2.5.2 in c:\\users\\saha_\\anaconda3\\envs\\py310\\lib\\site-packages (from langchain-core<0.4.0,>=0.3.27->langchain_openai) (2.9.2)\n",
      "Requirement already satisfied: tenacity!=8.4.0,<10.0.0,>=8.1.0 in c:\\users\\saha_\\anaconda3\\envs\\py310\\lib\\site-packages (from langchain-core<0.4.0,>=0.3.27->langchain_openai) (9.0.0)\n",
      "Requirement already satisfied: typing-extensions>=4.7 in c:\\users\\saha_\\anaconda3\\envs\\py310\\lib\\site-packages (from langchain-core<0.4.0,>=0.3.27->langchain_openai) (4.11.0)\n",
      "Requirement already satisfied: anyio<5,>=3.5.0 in c:\\users\\saha_\\anaconda3\\envs\\py310\\lib\\site-packages (from openai<2.0.0,>=1.58.1->langchain_openai) (4.6.2)\n",
      "Requirement already satisfied: distro<2,>=1.7.0 in c:\\users\\saha_\\anaconda3\\envs\\py310\\lib\\site-packages (from openai<2.0.0,>=1.58.1->langchain_openai) (1.9.0)\n",
      "Requirement already satisfied: httpx<1,>=0.23.0 in c:\\users\\saha_\\anaconda3\\envs\\py310\\lib\\site-packages (from openai<2.0.0,>=1.58.1->langchain_openai) (0.27.0)\n",
      "Requirement already satisfied: jiter<1,>=0.4.0 in c:\\users\\saha_\\anaconda3\\envs\\py310\\lib\\site-packages (from openai<2.0.0,>=1.58.1->langchain_openai) (0.5.0)\n",
      "Requirement already satisfied: sniffio in c:\\users\\saha_\\anaconda3\\envs\\py310\\lib\\site-packages (from openai<2.0.0,>=1.58.1->langchain_openai) (1.3.0)\n",
      "Requirement already satisfied: tqdm>4 in c:\\users\\saha_\\anaconda3\\envs\\py310\\lib\\site-packages (from openai<2.0.0,>=1.58.1->langchain_openai) (4.66.5)\n",
      "Requirement already satisfied: regex>=2022.1.18 in c:\\users\\saha_\\anaconda3\\envs\\py310\\lib\\site-packages (from tiktoken<1,>=0.7->langchain_openai) (2024.9.11)\n",
      "Requirement already satisfied: requests>=2.26.0 in c:\\users\\saha_\\anaconda3\\envs\\py310\\lib\\site-packages (from tiktoken<1,>=0.7->langchain_openai) (2.32.3)\n",
      "Requirement already satisfied: idna>=2.8 in c:\\users\\saha_\\anaconda3\\envs\\py310\\lib\\site-packages (from anyio<5,>=3.5.0->openai<2.0.0,>=1.58.1->langchain_openai) (3.7)\n",
      "Requirement already satisfied: exceptiongroup>=1.0.2 in c:\\users\\saha_\\anaconda3\\envs\\py310\\lib\\site-packages (from anyio<5,>=3.5.0->openai<2.0.0,>=1.58.1->langchain_openai) (1.2.0)\n",
      "Requirement already satisfied: certifi in c:\\users\\saha_\\anaconda3\\envs\\py310\\lib\\site-packages (from httpx<1,>=0.23.0->openai<2.0.0,>=1.58.1->langchain_openai) (2024.8.30)\n",
      "Requirement already satisfied: httpcore==1.* in c:\\users\\saha_\\anaconda3\\envs\\py310\\lib\\site-packages (from httpx<1,>=0.23.0->openai<2.0.0,>=1.58.1->langchain_openai) (1.0.2)\n",
      "Requirement already satisfied: h11<0.15,>=0.13 in c:\\users\\saha_\\anaconda3\\envs\\py310\\lib\\site-packages (from httpcore==1.*->httpx<1,>=0.23.0->openai<2.0.0,>=1.58.1->langchain_openai) (0.14.0)\n",
      "Requirement already satisfied: jsonpointer>=1.9 in c:\\users\\saha_\\anaconda3\\envs\\py310\\lib\\site-packages (from jsonpatch<2.0,>=1.33->langchain-core<0.4.0,>=0.3.27->langchain_openai) (3.0.0)\n",
      "Requirement already satisfied: orjson<4.0.0,>=3.9.14 in c:\\users\\saha_\\anaconda3\\envs\\py310\\lib\\site-packages (from langsmith<0.3,>=0.1.125->langchain-core<0.4.0,>=0.3.27->langchain_openai) (3.10.14)\n",
      "Requirement already satisfied: requests-toolbelt<2.0.0,>=1.0.0 in c:\\users\\saha_\\anaconda3\\envs\\py310\\lib\\site-packages (from langsmith<0.3,>=0.1.125->langchain-core<0.4.0,>=0.3.27->langchain_openai) (1.0.0)\n",
      "Requirement already satisfied: annotated-types>=0.6.0 in c:\\users\\saha_\\anaconda3\\envs\\py310\\lib\\site-packages (from pydantic<3.0.0,>=2.5.2->langchain-core<0.4.0,>=0.3.27->langchain_openai) (0.7.0)\n",
      "Requirement already satisfied: pydantic-core==2.23.4 in c:\\users\\saha_\\anaconda3\\envs\\py310\\lib\\site-packages (from pydantic<3.0.0,>=2.5.2->langchain-core<0.4.0,>=0.3.27->langchain_openai) (2.23.4)\n",
      "Requirement already satisfied: charset-normalizer<4,>=2 in c:\\users\\saha_\\anaconda3\\envs\\py310\\lib\\site-packages (from requests>=2.26.0->tiktoken<1,>=0.7->langchain_openai) (3.3.2)\n",
      "Requirement already satisfied: urllib3<3,>=1.21.1 in c:\\users\\saha_\\anaconda3\\envs\\py310\\lib\\site-packages (from requests>=2.26.0->tiktoken<1,>=0.7->langchain_openai) (2.2.3)\n",
      "Requirement already satisfied: colorama in c:\\users\\saha_\\anaconda3\\envs\\py310\\lib\\site-packages (from tqdm>4->openai<2.0.0,>=1.58.1->langchain_openai) (0.4.6)\n",
      "Downloading langchain_openai-0.2.14-py3-none-any.whl (50 kB)\n",
      "Downloading openai-1.59.5-py3-none-any.whl (454 kB)\n",
      "Installing collected packages: openai, langchain_openai\n",
      "  Attempting uninstall: openai\n",
      "    Found existing installation: openai 1.52.0\n",
      "    Uninstalling openai-1.52.0:\n",
      "      Successfully uninstalled openai-1.52.0\n",
      "Successfully installed langchain_openai-0.2.14 openai-1.59.5\n"
     ]
    }
   ],
   "source": [
    "! pip install langchain_openai"
   ]
  },
  {
   "cell_type": "code",
   "execution_count": 64,
   "id": "e91742c5-59a5-4b49-ab8a-bb0e7c7b5245",
   "metadata": {},
   "outputs": [],
   "source": [
    "def encode_image(image_path):\n",
    "    with open(image_path, \"rb\") as image_file:\n",
    "        return base64.b64encode(image_file.read()).decode(\"utf-8\")"
   ]
  },
  {
   "cell_type": "code",
   "execution_count": 65,
   "id": "31fabc6e-2406-40b6-9d18-b51abb2fbe4f",
   "metadata": {},
   "outputs": [],
   "source": [
    "def classify_document(image_path: str) -> str:\n",
    "    # Getting the base64 string\n",
    "    base64_image = encode_image(image_path)\n",
    "\n",
    "    client = OpenAI()\n",
    "    \n",
    "    response = client.chat.completions.create(\n",
    "        model=\"gpt-4o-mini\",\n",
    "        messages=[\n",
    "            {\n",
    "                \"role\": \"user\",\n",
    "                \"content\": [\n",
    "                    {\n",
    "                        \"type\": \"text\",\n",
    "                        \"text\": \"Is this document personal or financial? Only reply personal or financial no other words.\",\n",
    "                    },\n",
    "                    {\n",
    "                        \"type\": \"image_url\",\n",
    "                        \"image_url\": {\"url\": f\"data:image/jpeg;base64,{base64_image}\"},\n",
    "                    },\n",
    "                ],\n",
    "            }\n",
    "        ],\n",
    "    )\n",
    "\n",
    "    content = response.choices[0].message.content\n",
    "    return content"
   ]
  },
  {
   "cell_type": "code",
   "execution_count": null,
   "id": "7f9b880c-d796-4e85-9499-7f5f05dfc488",
   "metadata": {},
   "outputs": [],
   "source": []
  },
  {
   "cell_type": "code",
   "execution_count": null,
   "id": "b973471e-4a6c-43ea-b93f-c726e31ad386",
   "metadata": {},
   "outputs": [],
   "source": []
  },
  {
   "cell_type": "code",
   "execution_count": 66,
   "id": "328b5735-c1ec-48ef-a6ef-76c5d2c929db",
   "metadata": {},
   "outputs": [],
   "source": [
    "from langchain.agents import tool\n",
    "\n",
    "@tool\n",
    "def document_identifier_tool(image_path: str) -> str:\n",
    "    \"\"\"Identifies whether the document in the image is personal or financial.\"\"\"\n",
    "    return classify_document(image_path)"
   ]
  },
  {
   "cell_type": "code",
   "execution_count": 67,
   "id": "997959b8-7e81-4fee-a833-0b5f1d290dcb",
   "metadata": {},
   "outputs": [],
   "source": [
    "from langchain_openai import ChatOpenAI\n",
    "from langgraph.prebuilt import create_react_agent\n",
    "\n",
    "llm = ChatOpenAI(model=\"gpt-4o\")\n",
    "\n",
    "document_identifier_agent = create_react_agent(\n",
    "    llm,\n",
    "    tools=[document_identifier_tool]\n",
    ")\n"
   ]
  },
  {
   "cell_type": "code",
   "execution_count": 68,
   "id": "7639780e-d052-45df-98c3-f98e2a82b085",
   "metadata": {},
   "outputs": [],
   "source": [
    "from typing import List, Optional, Literal, TypedDict\n",
    "from langchain_core.language_models.chat_models import BaseChatModel\n",
    "\n",
    "from langgraph.graph import StateGraph, MessagesState, START, END\n",
    "from langgraph.types import Command\n",
    "from langchain_core.messages import HumanMessage, trim_messages\n",
    "\n",
    "\n",
    "def make_supervisor_node(llm: BaseChatModel, members: List[str]) -> str:\n",
    "    options = [\"FINISH\"] + members\n",
    "    system_prompt = (\n",
    "        \"You are a supervisor tasked with classifying documents\"\n",
    "        f\" following workers: {members}. Given the following user request,\"\n",
    "        \" respond with the worker to act next. Each worker will perform a\"\n",
    "        \" task and respond with their results and status. When finished,\"\n",
    "        \" respond with FINISH.\"\n",
    "    )\n",
    "\n",
    "    # Dynamically create a Literal type with the valid options\n",
    "    RouterLiteral = Literal[tuple(options)]\n",
    "\n",
    "    class Router(TypedDict):\n",
    "        \"\"\"Worker to route to next. If no workers needed, route to FINISH.\"\"\"\n",
    "        next: RouterLiteral\n",
    "\n",
    "    def supervisor_node(state: MessagesState) -> Command[Literal[tuple(members + [\"__end__\"])]]:\n",
    "        \"\"\"An LLM-based router.\"\"\"\n",
    "        messages = [\n",
    "            {\"role\": \"system\", \"content\": system_prompt},\n",
    "        ] + state[\"messages\"]\n",
    "        print(system_prompt)\n",
    "        response = llm.with_structured_output(Router).invoke(messages)\n",
    "        print(response)\n",
    "        goto = response[\"next\"]\n",
    "        if goto == \"FINISH\":\n",
    "            goto = END\n",
    "\n",
    "        return Command(goto=goto)\n",
    "\n",
    "    return supervisor_node\n"
   ]
  },
  {
   "cell_type": "code",
   "execution_count": 69,
   "id": "f21582c6-9862-4569-842a-70831cdc0314",
   "metadata": {},
   "outputs": [],
   "source": [
    "def doc_identifier_node(state: MessagesState) -> Command[Literal[\"supervisor\"]]:\n",
    "    result = document_identifier_agent.invoke(state)\n",
    "    return Command(\n",
    "        update={\n",
    "            \"messages\": [\n",
    "                HumanMessage(content=result[\"messages\"][-1].content, name=\"doc_classifier\")\n",
    "            ]\n",
    "        },\n",
    "        # We want our workers to ALWAYS \"report back\" to the supervisor when done\n",
    "        goto=\"supervisor\",\n",
    "    )"
   ]
  },
  {
   "cell_type": "code",
   "execution_count": 70,
   "id": "d2dea6c9-a5e2-452e-b214-ed30925609b8",
   "metadata": {},
   "outputs": [],
   "source": [
    "classifier_supervisor_node = make_supervisor_node(llm, [\"doc_classifier\"])"
   ]
  },
  {
   "cell_type": "code",
   "execution_count": 71,
   "id": "b576960e-5f27-4bab-8a06-0663b0b0840c",
   "metadata": {},
   "outputs": [],
   "source": [
    "research_builder = StateGraph(MessagesState)\n",
    "research_builder.add_node(\"supervisor\", classifier_supervisor_node)\n",
    "research_builder.add_node(\"doc_classifier\", doc_identifier_node)\n",
    "#research_builder.add_node(\"web_scraper\", web_scraper_node)\n",
    "\n",
    "research_builder.add_edge(START, \"supervisor\")\n",
    "research_graph = research_builder.compile()"
   ]
  },
  {
   "cell_type": "code",
   "execution_count": 72,
   "id": "8e334dfb-2ac2-48f4-87dd-f419711aee8d",
   "metadata": {},
   "outputs": [
    {
     "data": {
      "image/png": "[encoded data removed]",
      "text/plain": [
       "<IPython.core.display.Image object>"
      ]
     },
     "metadata": {},
     "output_type": "display_data"
    }
   ],
   "source": [
    "from IPython.display import Image, display\n",
    "\n",
    "display(Image(research_graph.get_graph().draw_mermaid_png()))"
   ]
  },
  {
   "cell_type": "code",
   "execution_count": 73,
   "id": "fa599340-b987-4db8-a265-b502b4c741d2",
   "metadata": {},
   "outputs": [
    {
     "name": "stdout",
     "output_type": "stream",
     "text": [
      "You are a supervisor tasked with classifying documents following workers: ['doc_classifier']. Given the following user request, respond with the worker to act next. Each worker will perform a task and respond with their results and status. When finished, respond with FINISH.\n",
      "{'next': 'doc_classifier'}\n",
      "((), {'supervisor': None})\n",
      "----\n",
      "(('doc_classifier:5bbdef80-c3bd-e68e-e522-49892f2166c0',), {'agent': {'messages': [AIMessage(content='', additional_kwargs={'tool_calls': [{'id': 'call_aXceoHy6jnsaHzrzAi06EjOd', 'function': {'arguments': '{\"image_path\":\"fin1.png\"}', 'name': 'document_identifier_tool'}, 'type': 'function'}], 'refusal': None}, response_metadata={'token_usage': {'completion_tokens': 19, 'prompt_tokens': 55, 'total_tokens': 74, 'completion_tokens_details': {'audio_tokens': 0, 'reasoning_tokens': 0, 'accepted_prediction_tokens': 0, 'rejected_prediction_tokens': 0}, 'prompt_tokens_details': {'audio_tokens': 0, 'cached_tokens': 0}}, 'model_name': 'gpt-4o-2024-08-06', 'system_fingerprint': 'fp_703d4ff298', 'finish_reason': 'tool_calls', 'logprobs': None}, id='run-409cc7a2-0dc9-42ea-861d-218edccf3cff-0', tool_calls=[{'name': 'document_identifier_tool', 'args': {'image_path': 'fin1.png'}, 'id': 'call_aXceoHy6jnsaHzrzAi06EjOd', 'type': 'tool_call'}], usage_metadata={'input_tokens': 55, 'output_tokens': 19, 'total_tokens': 74, 'input_token_details': {'audio': 0, 'cache_read': 0}, 'output_token_details': {'audio': 0, 'reasoning': 0}})]}})\n",
      "----\n",
      "(('doc_classifier:5bbdef80-c3bd-e68e-e522-49892f2166c0',), {'tools': {'messages': [ToolMessage(content='Financial', name='document_identifier_tool', id='9c45b250-e099-4775-baea-a19e9c77e805', tool_call_id='call_aXceoHy6jnsaHzrzAi06EjOd')]}})\n",
      "----\n",
      "(('doc_classifier:5bbdef80-c3bd-e68e-e522-49892f2166c0',), {'agent': {'messages': [AIMessage(content='The document in the image \"fin1.png\" is identified as a financial document.', additional_kwargs={'refusal': None}, response_metadata={'token_usage': {'completion_tokens': 19, 'prompt_tokens': 83, 'total_tokens': 102, 'completion_tokens_details': {'audio_tokens': 0, 'reasoning_tokens': 0, 'accepted_prediction_tokens': 0, 'rejected_prediction_tokens': 0}, 'prompt_tokens_details': {'audio_tokens': 0, 'cached_tokens': 0}}, 'model_name': 'gpt-4o-2024-08-06', 'system_fingerprint': 'fp_703d4ff298', 'finish_reason': 'stop', 'logprobs': None}, id='run-28c649e1-2661-4be6-875e-660ac57cb8cb-0', usage_metadata={'input_tokens': 83, 'output_tokens': 19, 'total_tokens': 102, 'input_token_details': {'audio': 0, 'cache_read': 0}, 'output_token_details': {'audio': 0, 'reasoning': 0}})]}})\n",
      "----\n",
      "((), {'doc_classifier': {'messages': [HumanMessage(content='The document in the image \"fin1.png\" is identified as a financial document.', additional_kwargs={}, response_metadata={}, name='doc_classifier')]}})\n",
      "----\n",
      "You are a supervisor tasked with classifying documents following workers: ['doc_classifier']. Given the following user request, respond with the worker to act next. Each worker will perform a task and respond with their results and status. When finished, respond with FINISH.\n",
      "{'next': 'FINISH'}\n",
      "((), {'supervisor': None})\n",
      "----\n"
     ]
    }
   ],
   "source": [
    "for s in research_graph.stream(\n",
    "    {\"messages\": [(\"user\", \"fin1.png\")]}, subgraphs=True\n",
    "):\n",
    "    print(s)\n",
    "    print(\"----\")"
   ]
  },
  {
   "cell_type": "code",
   "execution_count": null,
   "id": "8f2c2f4a-2d63-416e-a1e6-e3a99917871c",
   "metadata": {},
   "outputs": [],
   "source": []
  }
 ],
 "metadata": {
  "kernelspec": {
   "display_name": "Python 3 (ipykernel)",
   "language": "python",
   "name": "python3"
  },
  "language_info": {
   "codemirror_mode": {
    "name": "ipython",
    "version": 3
   },
   "file_extension": ".py",
   "mimetype": "text/x-python",
   "name": "python",
   "nbconvert_exporter": "python",
   "pygments_lexer": "ipython3",
   "version": "3.10.15"
  }
 },
 "nbformat": 4,
 "nbformat_minor": 5
}
